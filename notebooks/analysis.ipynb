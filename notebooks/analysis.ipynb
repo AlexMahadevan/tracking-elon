{
 "cells": [
  {
   "cell_type": "code",
   "execution_count": 2,
   "id": "724f5209-1575-4660-9612-7e947d0679bf",
   "metadata": {},
   "outputs": [
    {
     "name": "stderr",
     "output_type": "stream",
     "text": [
      "/Users/alexmahadevan/python_projects/community-notes/venv/lib/python3.9/site-packages/urllib3/__init__.py:35: NotOpenSSLWarning: urllib3 v2 only supports OpenSSL 1.1.1+, currently the 'ssl' module is compiled with 'LibreSSL 2.8.3'. See: https://github.com/urllib3/urllib3/issues/3020\n",
      "  warnings.warn(\n"
     ]
    }
   ],
   "source": [
    "import pandas as pd\n",
    "import glob\n",
    "import requests\n",
    "from zipfile import ZipFile\n",
    "import os"
   ]
  },
  {
   "cell_type": "code",
   "execution_count": 3,
   "id": "5be82c56-fc9e-4209-b419-fef8a571dbf0",
   "metadata": {},
   "outputs": [
    {
     "name": "stdout",
     "output_type": "stream",
     "text": [
      "✅ Downloaded: data/noteStatusHistory-00000.zip\n",
      "✅ Downloaded: data/notes-00000.zip\n",
      "✅ Downloaded: data/ratings-00000.zip\n",
      "✅ Downloaded: data/ratings-00001.zip\n",
      "✅ Downloaded: data/ratings-00002.zip\n",
      "✅ Downloaded: data/ratings-00003.zip\n",
      "✅ Downloaded: data/ratings-00004.zip\n",
      "✅ Downloaded: data/ratings-00005.zip\n",
      "✅ Downloaded: data/ratings-00006.zip\n",
      "✅ Downloaded: data/ratings-00007.zip\n",
      "✅ Downloaded: data/ratings-00008.zip\n",
      "✅ Downloaded: data/ratings-00009.zip\n",
      "✅ Downloaded: data/ratings-00010.zip\n",
      "✅ Downloaded: data/ratings-00011.zip\n",
      "✅ Downloaded: data/ratings-00012.zip\n",
      "✅ Downloaded: data/ratings-00013.zip\n",
      "✅ Downloaded: data/ratings-00014.zip\n",
      "✅ Downloaded: data/ratings-00015.zip\n"
     ]
    }
   ],
   "source": [
    "# Download ALL the data \n",
    "BASE_URL = \"https://ton.twimg.com/birdwatch-public-data/2025/03/23\"\n",
    "\n",
    "def download_file(url, file_path):\n",
    "    response = requests.get(url, stream=True)\n",
    "    if response.status_code == 200:\n",
    "        with open(file_path, 'wb') as file:\n",
    "            for chunk in response.iter_content(chunk_size=8192):\n",
    "                file.write(chunk)\n",
    "        print(f\"✅ Downloaded: {file_path}\")\n",
    "    else:\n",
    "        print(f\"❌ Failed to download: {url}\")\n",
    "\n",
    "# Download our Community Notes files\n",
    "download_file(f\"{BASE_URL}/noteStatusHistory/noteStatusHistory-00000.zip\", 'data/noteStatusHistory-00000.zip')\n",
    "download_file(f\"{BASE_URL}/notes/notes-00000.zip\", 'data/notes-00000.zip')\n",
    "for i in range(16):\n",
    "    download_file(f\"{BASE_URL}/noteRatings/ratings-{str(i).zfill(5)}.zip\", f'data/ratings-{str(i).zfill(5)}.zip')"
   ]
  },
  {
   "cell_type": "code",
   "execution_count": 4,
   "id": "ca90675c-2863-443d-8b65-8e2839f50429",
   "metadata": {},
   "outputs": [],
   "source": [
    "# Unzip everything (compression is new in Community Notes land!)\n",
    "for file in os.listdir('data/'):\n",
    "    if file.endswith(\".zip\"):\n",
    "        with ZipFile(f'data/{file}', 'r') as zip_ref:\n",
    "            zip_ref.extractall('data/unzipped')"
   ]
  },
  {
   "cell_type": "code",
   "execution_count": 34,
   "id": "8e3feb07-b17d-420f-8198-1252965be3fe",
   "metadata": {},
   "outputs": [
    {
     "name": "stdout",
     "output_type": "stream",
     "text": [
      "Loading file 1 of 16: data/unzipped/ratings-00003.tsv\n",
      "Loading file 2 of 16: data/unzipped/ratings-00002.tsv\n",
      "Loading file 3 of 16: data/unzipped/ratings-00014.tsv\n",
      "Loading file 4 of 16: data/unzipped/ratings-00000.tsv\n",
      "Loading file 5 of 16: data/unzipped/ratings-00001.tsv\n",
      "Loading file 6 of 16: data/unzipped/ratings-00015.tsv\n",
      "Loading file 7 of 16: data/unzipped/ratings-00011.tsv\n",
      "Loading file 8 of 16: data/unzipped/ratings-00005.tsv\n",
      "Loading file 9 of 16: data/unzipped/ratings-00004.tsv\n",
      "Loading file 10 of 16: data/unzipped/ratings-00010.tsv\n",
      "Loading file 11 of 16: data/unzipped/ratings-00006.tsv\n",
      "Loading file 12 of 16: data/unzipped/ratings-00012.tsv\n",
      "Loading file 13 of 16: data/unzipped/ratings-00013.tsv\n",
      "Loading file 14 of 16: data/unzipped/ratings-00007.tsv\n",
      "Loading file 15 of 16: data/unzipped/ratings-00009.tsv\n",
      "Loading file 16 of 16: data/unzipped/ratings-00008.tsv\n"
     ]
    }
   ],
   "source": [
    "# Combine, then filter rating data for the week we're looking at \n",
    "# (why do they not put ratings sequentially? who knows)\n",
    "\n",
    "ratings_files = glob.glob('data/unzipped/ratings-*.tsv')\n",
    "\n",
    "ratings_chunks = []\n",
    "chunk_size = 500000\n",
    "start_date = pd.to_datetime('2025-03-09')\n",
    "end_date = pd.to_datetime('2025-03-16')\n",
    "\n",
    "for idx, file in enumerate(ratings_files):\n",
    "    print(f\"Loading file {idx + 1} of {len(ratings_files)}: {file}\")\n",
    "    for chunk in pd.read_csv(file, sep='\\t', chunksize=chunk_size):\n",
    "        chunk['createdAt'] = pd.to_datetime(chunk['createdAtMillis'], unit='ms')\n",
    "        filtered_chunk = chunk[(chunk['createdAt'] >= start_date) & (chunk['createdAt'] < end_date)]\n",
    "        ratings_chunks.append(filtered_chunk[['noteId', 'helpfulnessLevel', 'createdAt']])\n",
    "\n",
    "all_ratings = pd.concat(ratings_chunks, ignore_index=True)"
   ]
  },
  {
   "cell_type": "code",
   "execution_count": 35,
   "id": "07ce4f6d-9b1f-434b-9c46-bac07f5347cc",
   "metadata": {},
   "outputs": [
    {
     "data": {
      "text/html": [
       "<div>\n",
       "<style scoped>\n",
       "    .dataframe tbody tr th:only-of-type {\n",
       "        vertical-align: middle;\n",
       "    }\n",
       "\n",
       "    .dataframe tbody tr th {\n",
       "        vertical-align: top;\n",
       "    }\n",
       "\n",
       "    .dataframe thead th {\n",
       "        text-align: right;\n",
       "    }\n",
       "</style>\n",
       "<table border=\"1\" class=\"dataframe\">\n",
       "  <thead>\n",
       "    <tr style=\"text-align: right;\">\n",
       "      <th></th>\n",
       "      <th>noteId</th>\n",
       "      <th>helpfulnessLevel</th>\n",
       "      <th>createdAt</th>\n",
       "    </tr>\n",
       "  </thead>\n",
       "  <tbody>\n",
       "    <tr>\n",
       "      <th>0</th>\n",
       "      <td>1900895952786886701</td>\n",
       "      <td>HELPFUL</td>\n",
       "      <td>2025-03-15 20:55:22.664</td>\n",
       "    </tr>\n",
       "    <tr>\n",
       "      <th>1</th>\n",
       "      <td>1899954815591211432</td>\n",
       "      <td>NOT_HELPFUL</td>\n",
       "      <td>2025-03-13 00:44:37.491</td>\n",
       "    </tr>\n",
       "    <tr>\n",
       "      <th>2</th>\n",
       "      <td>1899957698583789971</td>\n",
       "      <td>NOT_HELPFUL</td>\n",
       "      <td>2025-03-13 00:44:09.902</td>\n",
       "    </tr>\n",
       "    <tr>\n",
       "      <th>3</th>\n",
       "      <td>1898547012452090169</td>\n",
       "      <td>HELPFUL</td>\n",
       "      <td>2025-03-09 09:40:35.059</td>\n",
       "    </tr>\n",
       "    <tr>\n",
       "      <th>4</th>\n",
       "      <td>1898578866417057827</td>\n",
       "      <td>HELPFUL</td>\n",
       "      <td>2025-03-09 09:40:23.357</td>\n",
       "    </tr>\n",
       "  </tbody>\n",
       "</table>\n",
       "</div>"
      ],
      "text/plain": [
       "                noteId helpfulnessLevel               createdAt\n",
       "0  1900895952786886701          HELPFUL 2025-03-15 20:55:22.664\n",
       "1  1899954815591211432      NOT_HELPFUL 2025-03-13 00:44:37.491\n",
       "2  1899957698583789971      NOT_HELPFUL 2025-03-13 00:44:09.902\n",
       "3  1898547012452090169          HELPFUL 2025-03-09 09:40:35.059\n",
       "4  1898578866417057827          HELPFUL 2025-03-09 09:40:23.357"
      ]
     },
     "execution_count": 35,
     "metadata": {},
     "output_type": "execute_result"
    }
   ],
   "source": [
    "# Check it out\n",
    "all_ratings.head()"
   ]
  },
  {
   "cell_type": "code",
   "execution_count": 19,
   "id": "093f404d-f691-4a21-b546-9fa2c30270ee",
   "metadata": {},
   "outputs": [],
   "source": [
    "# Group by NoteID so we can track how many votes each note got\n",
    "ratings_summary = all_ratings.groupby('noteId')['helpfulnessLevel'].value_counts().unstack(fill_value=0).reset_index()\n",
    "ratings_summary['total_helpful'] = ratings_summary.get('HELPFUL', 0)\n",
    "ratings_summary['total_unhelpful'] = ratings_summary.get('NOT_HELPFUL', 0)\n",
    "\n",
    "ratings_summary['helpfulness_ratio'] = ratings_summary['total_helpful'] / (\n",
    "    ratings_summary['total_helpful'] + ratings_summary['total_unhelpful']\n",
    ")\n",
    "ratings_summary['helpfulness_ratio'] = ratings_summary['helpfulness_ratio'].fillna(0)"
   ]
  },
  {
   "cell_type": "code",
   "execution_count": 23,
   "id": "318dbc05-8ade-4a04-b6d2-b92ddef9bb8a",
   "metadata": {},
   "outputs": [
    {
     "data": {
      "text/html": [
       "<div>\n",
       "<style scoped>\n",
       "    .dataframe tbody tr th:only-of-type {\n",
       "        vertical-align: middle;\n",
       "    }\n",
       "\n",
       "    .dataframe tbody tr th {\n",
       "        vertical-align: top;\n",
       "    }\n",
       "\n",
       "    .dataframe thead th {\n",
       "        text-align: right;\n",
       "    }\n",
       "</style>\n",
       "<table border=\"1\" class=\"dataframe\">\n",
       "  <thead>\n",
       "    <tr style=\"text-align: right;\">\n",
       "      <th>helpfulnessLevel</th>\n",
       "      <th>noteId</th>\n",
       "      <th>HELPFUL</th>\n",
       "      <th>NOT_HELPFUL</th>\n",
       "      <th>SOMEWHAT_HELPFUL</th>\n",
       "      <th>total_helpful</th>\n",
       "      <th>total_unhelpful</th>\n",
       "      <th>helpfulness_ratio</th>\n",
       "    </tr>\n",
       "  </thead>\n",
       "  <tbody>\n",
       "    <tr>\n",
       "      <th>0</th>\n",
       "      <td>1361895220124798976</td>\n",
       "      <td>1</td>\n",
       "      <td>0</td>\n",
       "      <td>0</td>\n",
       "      <td>1</td>\n",
       "      <td>0</td>\n",
       "      <td>1.000</td>\n",
       "    </tr>\n",
       "    <tr>\n",
       "      <th>1</th>\n",
       "      <td>1397916575831711746</td>\n",
       "      <td>0</td>\n",
       "      <td>1</td>\n",
       "      <td>0</td>\n",
       "      <td>0</td>\n",
       "      <td>1</td>\n",
       "      <td>0.000</td>\n",
       "    </tr>\n",
       "    <tr>\n",
       "      <th>2</th>\n",
       "      <td>1398647731468521484</td>\n",
       "      <td>2</td>\n",
       "      <td>0</td>\n",
       "      <td>0</td>\n",
       "      <td>2</td>\n",
       "      <td>0</td>\n",
       "      <td>1.000</td>\n",
       "    </tr>\n",
       "    <tr>\n",
       "      <th>3</th>\n",
       "      <td>1399832502055981063</td>\n",
       "      <td>0</td>\n",
       "      <td>12</td>\n",
       "      <td>0</td>\n",
       "      <td>0</td>\n",
       "      <td>12</td>\n",
       "      <td>0.000</td>\n",
       "    </tr>\n",
       "    <tr>\n",
       "      <th>4</th>\n",
       "      <td>1399833622090240007</td>\n",
       "      <td>1</td>\n",
       "      <td>7</td>\n",
       "      <td>0</td>\n",
       "      <td>1</td>\n",
       "      <td>7</td>\n",
       "      <td>0.125</td>\n",
       "    </tr>\n",
       "  </tbody>\n",
       "</table>\n",
       "</div>"
      ],
      "text/plain": [
       "helpfulnessLevel               noteId  HELPFUL  NOT_HELPFUL  SOMEWHAT_HELPFUL  \\\n",
       "0                 1361895220124798976        1            0                 0   \n",
       "1                 1397916575831711746        0            1                 0   \n",
       "2                 1398647731468521484        2            0                 0   \n",
       "3                 1399832502055981063        0           12                 0   \n",
       "4                 1399833622090240007        1            7                 0   \n",
       "\n",
       "helpfulnessLevel  total_helpful  total_unhelpful  helpfulness_ratio  \n",
       "0                             1                0              1.000  \n",
       "1                             0                1              0.000  \n",
       "2                             2                0              1.000  \n",
       "3                             0               12              0.000  \n",
       "4                             1                7              0.125  "
      ]
     },
     "execution_count": 23,
     "metadata": {},
     "output_type": "execute_result"
    }
   ],
   "source": [
    "# Check it out\n",
    "ratings_summary.head()"
   ]
  },
  {
   "cell_type": "code",
   "execution_count": 25,
   "id": "fab3eb03-1793-4f73-84cb-6a69ba2bbb8a",
   "metadata": {},
   "outputs": [
    {
     "name": "stderr",
     "output_type": "stream",
     "text": [
      "/var/folders/9k/6qp97lyn6jj7y26_j0dnxr180000gr/T/ipykernel_37373/3031684049.py:1: DtypeWarning: Columns (5,6,7) have mixed types. Specify dtype option on import or set low_memory=False.\n",
      "  notes = pd.read_csv('data/unzipped/notes-00000.tsv', sep='\\t')\n",
      "/var/folders/9k/6qp97lyn6jj7y26_j0dnxr180000gr/T/ipykernel_37373/3031684049.py:2: DtypeWarning: Columns (10,19) have mixed types. Specify dtype option on import or set low_memory=False.\n",
      "  notes_status = pd.read_csv('data/unzipped/noteStatusHistory-00000.tsv', sep='\\t')\n"
     ]
    }
   ],
   "source": [
    "# Now read in our notes and status data (you may get a warning)\n",
    "notes = pd.read_csv('data/unzipped/notes-00000.tsv', sep='\\t')\n",
    "notes_status = pd.read_csv('data/unzipped/noteStatusHistory-00000.tsv', sep='\\t')"
   ]
  },
  {
   "cell_type": "code",
   "execution_count": 36,
   "id": "c5e02bf1-b6a8-402e-bdef-3042d62d3b94",
   "metadata": {},
   "outputs": [],
   "source": [
    "# Put into human time\n",
    "notes['createdAt'] = pd.to_datetime(notes['createdAtMillis'], unit='ms')\n",
    "\n",
    "# Filter notes for the week we're looking at\n",
    "filtered_notes = notes[(notes['createdAt'] >= start_date) & (notes['createdAt'] < end_date)]"
   ]
  },
  {
   "cell_type": "code",
   "execution_count": 40,
   "id": "0adecb8c-b457-4128-b41a-f97149821ce1",
   "metadata": {},
   "outputs": [],
   "source": [
    "# Convert timestamps for status history\n",
    "notes_status['currentStatusDate'] = pd.to_datetime(notes_status['timestampMillisOfCurrentStatus'], unit='ms')\n",
    "\n",
    "# Filter noteStatusHistory for the desired timeframe\n",
    "filtered_note_status = notes_status[\n",
    "    (notes_status['currentStatusDate'] >= start_date) &\n",
    "    (notes_status['currentStatusDate'] < end_date)\n",
    "]"
   ]
  },
  {
   "cell_type": "code",
   "execution_count": 41,
   "id": "ade3fd50-4953-4429-8d1c-9121039afe97",
   "metadata": {},
   "outputs": [],
   "source": [
    "# Merge everything\n",
    "merged_data = pd.merge(ratings_summary, notes, on='noteId', how='inner')\n",
    "merged_data = pd.merge(merged_data, notes_status, on='noteId', how='inner')"
   ]
  },
  {
   "cell_type": "code",
   "execution_count": 42,
   "id": "f86be2aa-545e-4eef-af78-92a3b8a771bf",
   "metadata": {},
   "outputs": [
    {
     "name": "stdout",
     "output_type": "stream",
     "text": [
      "                noteId  HELPFUL  NOT_HELPFUL  SOMEWHAT_HELPFUL  total_helpful  \\\n",
      "0  1361895220124798976        1            0                 0              1   \n",
      "1  1397916575831711746        0            1                 0              0   \n",
      "2  1398647731468521484        2            0                 0              2   \n",
      "3  1399832502055981063        0           12                 0              0   \n",
      "4  1399833622090240007        1            7                 0              1   \n",
      "5  1399864843994337287        3            9                 0              3   \n",
      "6  1400120391591358464        2            9                 0              2   \n",
      "7  1415004640479961091        2            0                 0              2   \n",
      "8  1415149802099249153        1            0                 1              1   \n",
      "9  1415160673697505281        0            3                 0              0   \n",
      "\n",
      "   total_unhelpful  helpfulness_ratio  \\\n",
      "0                0           1.000000   \n",
      "1                1           0.000000   \n",
      "2                0           1.000000   \n",
      "3               12           0.000000   \n",
      "4                7           0.125000   \n",
      "5                9           0.250000   \n",
      "6                9           0.181818   \n",
      "7                0           1.000000   \n",
      "8                0           1.000000   \n",
      "9                3           0.000000   \n",
      "\n",
      "                           noteAuthorParticipantId_x  createdAtMillis_x  \\\n",
      "0  27DE7623F57E8902EEE6C756D8570F69980C0C55CF3713...      1613536097925   \n",
      "1  B203C1447544E30B5A31E3A8C5292A65841B2A34CA7BB1...      1622124258370   \n",
      "2  26A9AD8FD5FDED46CBD2919A85F4AEAB96C4ABD08551A0...      1622298579459   \n",
      "3  81AA462BF30D87B3D719A81BA6492EF148F89D2F1E939E...      1622581050780   \n",
      "4  0657AD8A7B9E2BEC85383384C669491530C71224E1C31D...      1622581317814   \n",
      "5  4F212E436120CEFED581022703B6FCF327179DC4F6C776...      1622588761695   \n",
      "6  23652831C846A8A77497D8F9C15131D4DBBA285C0AB807...      1622649688992   \n",
      "7  EFBAC054815AF24B510561C8C093B29BA02732FCF90061...      1626198370461   \n",
      "8  C998EDBEB6CDB38A5D7FAA19CCF773A69561F8E924BEBC...      1626232979688   \n",
      "9  76D75596753AC43955A8B72188F1AE7C4CF088C9E94257...      1626235571680   \n",
      "\n",
      "               tweetId  ...           currentGroupStatus  \\\n",
      "0  1361299181621702664  ...           NEEDS_MORE_RATINGS   \n",
      "1  1397748840770514944  ...                          NaN   \n",
      "2  1378893370421043204  ...                          NaN   \n",
      "3  1399695342635991042  ...  CURRENTLY_RATED_NOT_HELPFUL   \n",
      "4  1399695342635991042  ...           NEEDS_MORE_RATINGS   \n",
      "5  1399695342635991042  ...           NEEDS_MORE_RATINGS   \n",
      "6  1399695342635991042  ...           NEEDS_MORE_RATINGS   \n",
      "7  1378893370421043204  ...                          NaN   \n",
      "8  1378893370421043204  ...                          NaN   \n",
      "9  1378893370421043204  ...                          NaN   \n",
      "\n",
      "            currentDecidedBy currentModelingGroup  \\\n",
      "0           CoreModel (v1.1)                 13.0   \n",
      "1           CoreModel (v1.1)                  NaN   \n",
      "2  ExpansionPlusModel (v1.1)                  NaN   \n",
      "3   ScoringDriftGuard (v1.0)                 13.0   \n",
      "4           CoreModel (v1.1)                 13.0   \n",
      "5           CoreModel (v1.1)                 13.0   \n",
      "6           CoreModel (v1.1)                 13.0   \n",
      "7  ExpansionPlusModel (v1.1)                  NaN   \n",
      "8  ExpansionPlusModel (v1.1)                  NaN   \n",
      "9           CoreModel (v1.1)                  NaN   \n",
      "\n",
      "  timestampMillisOfMostRecentStatusChange  \\\n",
      "0                                      -1   \n",
      "1                                      -1   \n",
      "2                                      -1   \n",
      "3                                      -1   \n",
      "4                                      -1   \n",
      "5                                      -1   \n",
      "6                                      -1   \n",
      "7                                      -1   \n",
      "8                                      -1   \n",
      "9                                      -1   \n",
      "\n",
      "   timestampMillisOfNmrDueToMinStableCrhTime  currentMultiGroupStatus  \\\n",
      "0                                       -1.0                      NaN   \n",
      "1                                       -1.0                      NaN   \n",
      "2                                       -1.0                      NaN   \n",
      "3                                       -1.0                      NaN   \n",
      "4                                       -1.0                      NaN   \n",
      "5                                       -1.0                      NaN   \n",
      "6                                       -1.0                      NaN   \n",
      "7                                       -1.0                      NaN   \n",
      "8                                       -1.0                      NaN   \n",
      "9                                       -1.0                      NaN   \n",
      "\n",
      "   currentModelingMultiGroup  timestampMinuteOfFinalScoringOutput  \\\n",
      "0                        NaN                             29042028   \n",
      "1                        NaN                             29042028   \n",
      "2                        NaN                             29042028   \n",
      "3                        NaN                             29042028   \n",
      "4                        NaN                             29042028   \n",
      "5                        NaN                             29042028   \n",
      "6                        NaN                             29042028   \n",
      "7                        NaN                             29042028   \n",
      "8                        NaN                             29042028   \n",
      "9                        NaN                             29042028   \n",
      "\n",
      "   timestampMillisOfFirstNmrDueToMinStableCrhTime       currentStatusDate  \n",
      "0                                             NaN 2025-03-09 18:41:28.370  \n",
      "1                                             NaN 2025-03-09 21:47:05.343  \n",
      "2                                             NaN 2025-03-14 10:09:29.512  \n",
      "3                                             NaN 2025-03-16 01:41:32.425  \n",
      "4                                             NaN 2025-03-16 01:41:32.425  \n",
      "5                                             NaN 2025-03-16 01:41:32.425  \n",
      "6                                             NaN 2025-03-16 01:41:32.425  \n",
      "7                                             NaN 2025-03-14 10:09:29.512  \n",
      "8                                             NaN 2025-03-14 10:09:29.512  \n",
      "9                                             NaN 2025-03-14 12:28:39.903  \n",
      "\n",
      "[10 rows x 53 columns]\n"
     ]
    }
   ],
   "source": [
    "# Check it out\n",
    "print(merged_data.head())"
   ]
  },
  {
   "cell_type": "code",
   "execution_count": 44,
   "id": "65a08c55-5abf-45a8-b49d-e3ecaec17fb0",
   "metadata": {},
   "outputs": [
    {
     "data": {
      "text/html": [
       "<div>\n",
       "<style scoped>\n",
       "    .dataframe tbody tr th:only-of-type {\n",
       "        vertical-align: middle;\n",
       "    }\n",
       "\n",
       "    .dataframe tbody tr th {\n",
       "        vertical-align: top;\n",
       "    }\n",
       "\n",
       "    .dataframe thead th {\n",
       "        text-align: right;\n",
       "    }\n",
       "</style>\n",
       "<table border=\"1\" class=\"dataframe\">\n",
       "  <thead>\n",
       "    <tr style=\"text-align: right;\">\n",
       "      <th></th>\n",
       "      <th>noteId</th>\n",
       "      <th>helpfulnessLevel</th>\n",
       "      <th>createdAt</th>\n",
       "    </tr>\n",
       "  </thead>\n",
       "  <tbody>\n",
       "    <tr>\n",
       "      <th>0</th>\n",
       "      <td>1900895952786886701</td>\n",
       "      <td>HELPFUL</td>\n",
       "      <td>2025-03-15 20:55:22.664</td>\n",
       "    </tr>\n",
       "    <tr>\n",
       "      <th>1</th>\n",
       "      <td>1899954815591211432</td>\n",
       "      <td>NOT_HELPFUL</td>\n",
       "      <td>2025-03-13 00:44:37.491</td>\n",
       "    </tr>\n",
       "    <tr>\n",
       "      <th>2</th>\n",
       "      <td>1899957698583789971</td>\n",
       "      <td>NOT_HELPFUL</td>\n",
       "      <td>2025-03-13 00:44:09.902</td>\n",
       "    </tr>\n",
       "    <tr>\n",
       "      <th>3</th>\n",
       "      <td>1898547012452090169</td>\n",
       "      <td>HELPFUL</td>\n",
       "      <td>2025-03-09 09:40:35.059</td>\n",
       "    </tr>\n",
       "    <tr>\n",
       "      <th>4</th>\n",
       "      <td>1898578866417057827</td>\n",
       "      <td>HELPFUL</td>\n",
       "      <td>2025-03-09 09:40:23.357</td>\n",
       "    </tr>\n",
       "  </tbody>\n",
       "</table>\n",
       "</div>"
      ],
      "text/plain": [
       "                noteId helpfulnessLevel               createdAt\n",
       "0  1900895952786886701          HELPFUL 2025-03-15 20:55:22.664\n",
       "1  1899954815591211432      NOT_HELPFUL 2025-03-13 00:44:37.491\n",
       "2  1899957698583789971      NOT_HELPFUL 2025-03-13 00:44:09.902\n",
       "3  1898547012452090169          HELPFUL 2025-03-09 09:40:35.059\n",
       "4  1898578866417057827          HELPFUL 2025-03-09 09:40:23.357"
      ]
     },
     "execution_count": 44,
     "metadata": {},
     "output_type": "execute_result"
    }
   ],
   "source": [
    "#Check it out\n",
    "all_ratings.head()"
   ]
  },
  {
   "cell_type": "code",
   "execution_count": 53,
   "id": "064a4537-4344-4112-b443-d827198e40cc",
   "metadata": {},
   "outputs": [
    {
     "name": "stdout",
     "output_type": "stream",
     "text": [
      "Percentage of Helpful Notes: 9.09%\n",
      "Average Helpfulness Ratio for Helpful Notes: 0.85\n"
     ]
    }
   ],
   "source": [
    "# Calculate the % of helpful notes, and also check out the ratio of helpful votes on them\n",
    "helpful_notes = merged_data[merged_data['currentStatus'] == 'CURRENTLY_RATED_HELPFUL']\n",
    "\n",
    "percent_helpful_notes = (merged_data['currentStatus'] == 'CURRENTLY_RATED_HELPFUL').mean() * 100\n",
    "print(f\"Percentage of Helpful Notes: {percent_helpful_notes:.2f}%\")\n",
    "\n",
    "average_helpfulness_ratio = helpful_notes['helpfulness_ratio'].mean()\n",
    "print(f\"Average Helpfulness Ratio for Helpful Notes: {average_helpfulness_ratio:.2f}\")\n"
   ]
  },
  {
   "cell_type": "code",
   "execution_count": 52,
   "id": "012998dd-41e5-4734-a05e-ff189ef6ac71",
   "metadata": {},
   "outputs": [
    {
     "name": "stdout",
     "output_type": "stream",
     "text": [
      "Helpfulness Ratio for Tracked Notes: 0.39\n",
      "Percentage of Helpful Notes on Tracked Tweets: 0.00%\n",
      "Average Helpfulness Ratio for Helpful Notes: 0.85\n",
      "Percentage of Helpful Notes overall: 9.09%\n"
     ]
    }
   ],
   "source": [
    "# Now let's add in tweets from Trump and Musk\n",
    "tracked_tweet_ids = [1899636898533867969]  # Replace with your list of tracked tweet IDs\n",
    "\n",
    "# Filter dataset for notes on tracked tweets\n",
    "tracked_notes = merged_data[merged_data['tweetId'].isin(tracked_tweet_ids)]\n",
    "\n",
    "# Calculate helpfulness ratio for tracked notes\n",
    "tracked_helpfulness_ratio = tracked_notes['helpfulness_ratio'].mean()\n",
    "print(f\"Helpfulness Ratio for Tracked Notes: {tracked_helpfulness_ratio:.2f}\")\n",
    "\n",
    "# Calculate % of helpful notes on tracked tweets (lol probably 0!)\n",
    "percent_helpful_tracked_notes = (tracked_notes['currentStatus'] == 'CURRENTLY_RATED_HELPFUL').mean() * 100\n",
    "print(f\"Percentage of Helpful Notes on Tracked Tweets: {percent_helpful_tracked_notes:.2f}%\")\n",
    "# Now print the same numbers for overall dataset from that week\n",
    "print(f\"Average Helpfulness Ratio for Helpful Notes: {average_helpfulness_ratio:.2f}\")\n",
    "percent_helpful_notes = (merged_data['currentStatus'] == 'CURRENTLY_RATED_HELPFUL').mean() * 100\n",
    "print(f\"Percentage of Helpful Notes overall: {percent_helpful_notes:.2f}%\")"
   ]
  },
  {
   "cell_type": "code",
   "execution_count": null,
   "id": "c1b62efa-63e3-4438-a1bf-dfbc4551f19f",
   "metadata": {},
   "outputs": [],
   "source": []
  }
 ],
 "metadata": {
  "kernelspec": {
   "display_name": "Python 3 (ipykernel)",
   "language": "python",
   "name": "python3"
  },
  "language_info": {
   "codemirror_mode": {
    "name": "ipython",
    "version": 3
   },
   "file_extension": ".py",
   "mimetype": "text/x-python",
   "name": "python",
   "nbconvert_exporter": "python",
   "pygments_lexer": "ipython3",
   "version": "3.9.6"
  }
 },
 "nbformat": 4,
 "nbformat_minor": 5
}
